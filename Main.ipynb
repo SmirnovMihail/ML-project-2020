{
 "cells": [
  {
   "cell_type": "code",
   "execution_count": 1,
   "metadata": {},
   "outputs": [],
   "source": [
    "import pandas as pd\n",
    "import numpy as np\n",
    "import matplotlib.pyplot as plt\n",
    "import sklearn.metrics as metrics\n",
    "import random\n",
    "import json"
   ]
  },
  {
   "cell_type": "code",
   "execution_count": 2,
   "metadata": {},
   "outputs": [],
   "source": [
    "from sklearn.linear_model import LinearRegression\n",
    "from sklearn.preprocessing import StandardScaler\n",
    "from sklearn.metrics import accuracy_score\n",
    "from functools import reduce\n",
    "from html.parser import HTMLParser"
   ]
  },
  {
   "cell_type": "code",
   "execution_count": 3,
   "metadata": {},
   "outputs": [],
   "source": [
    "from sklearn.neighbors import KNeighborsClassifier\n",
    "from sklearn.linear_model import SGDClassifier\n",
    "from sklearn.tree import DecisionTreeClassifier\n",
    "from sklearn.ensemble import RandomForestClassifier\n",
    "from sklearn.model_selection import train_test_split, cross_validate, KFold, cross_val_score"
   ]
  },
  {
   "cell_type": "code",
   "execution_count": 4,
   "metadata": {},
   "outputs": [],
   "source": [
    "def flatten(x):\n",
    "    result = []\n",
    "    for elem in x:\n",
    "        if hasattr(elem, \"__iter__\") and not isinstance(elem, str):\n",
    "            result.extend(flatten(elem))\n",
    "        else:\n",
    "            result.append(elem)\n",
    "    return result"
   ]
  },
  {
   "cell_type": "code",
   "execution_count": 5,
   "metadata": {},
   "outputs": [],
   "source": [
    "def list_concat(list1, list2):\n",
    "    \n",
    "    len1 = len(list1)\n",
    "    len2 = len(list2)\n",
    "    \n",
    "    return [[list1[i], list2[j]] for i in range(len1) for j in range(len2)]"
   ]
  },
  {
   "cell_type": "code",
   "execution_count": 6,
   "metadata": {},
   "outputs": [],
   "source": [
    "def combinations(params):\n",
    "    \n",
    "    list_ = []\n",
    "    for value in params.values():\n",
    "        list_.append(value)\n",
    "\n",
    "    tmp = reduce(lambda x, y: list_concat(x, y), list_)\n",
    "\n",
    "    res = []\n",
    "    for elem in tmp:\n",
    "        param_list = flatten(elem)\n",
    "        param_dict = dict(zip(params.keys(), param_list))\n",
    "        res.append(param_dict)\n",
    "        \n",
    "    return res"
   ]
  },
  {
   "cell_type": "code",
   "execution_count": 7,
   "metadata": {},
   "outputs": [],
   "source": [
    "def group_fold_generator(X_train, train_target, groups_train, folds_num=10):\n",
    "    \n",
    "    groups_num = np.unique(groups_train).shape[0]\n",
    "    \n",
    "    for i in range(folds_num):\n",
    "        \n",
    "        a = [random.randint(1, groups_num) for i in range(groups_num // folds_num)]\n",
    "\n",
    "        test_index = [i for i, x in enumerate(groups_train) if x in a]\n",
    "        train_index = [i for i, x in enumerate(groups_train) if x not in a]\n",
    "\n",
    "        yield train_index, test_index"
   ]
  },
  {
   "cell_type": "code",
   "execution_count": 8,
   "metadata": {},
   "outputs": [],
   "source": [
    "def default_fold_generator(X_train, train_target, folds_num=10, shuffle=False):\n",
    "    \n",
    "    folds = KFold(folds_num, shuffle = shuffle)\n",
    "    \n",
    "    return folds.split(X_train, train_target)"
   ]
  },
  {
   "cell_type": "code",
   "execution_count": 9,
   "metadata": {},
   "outputs": [],
   "source": [
    "def validation(X_train, train_target, model, params, folds_gen_func=default_fold_generator, **kwargs):\n",
    "    \n",
    "    scaler = StandardScaler()\n",
    "    scaler.fit(X_train) \n",
    "    \n",
    "    main_res = []\n",
    "    for param_set in combinations(params):\n",
    "        \n",
    "#         print(param_set)        \n",
    "        exact_model = model(**param_set) \n",
    "        \n",
    "        fold_generator = folds_gen_func(X_train, train_target, **kwargs)\n",
    "        \n",
    "        res = []\n",
    "        for train_index, test_index in fold_generator:\n",
    "\n",
    "            exact_model.fit(scaler.transform(X_train[train_index]), train_target[train_index])\n",
    "            res.append(metrics.roc_auc_score(train_target[test_index],\\\n",
    "                                      exact_model.predict(scaler.transform(X_train[test_index]))))\n",
    "            \n",
    "        mean = sum(res)/len(res)\n",
    "#         print(mean)\n",
    "        main_res.append((mean, param_set))\n",
    "    \n",
    "    best = main_res[np.argmax([res[0] for res in main_res])]\n",
    "    print('--------max-------')\n",
    "    print(best)\n",
    "    \n",
    "    return best"
   ]
  },
  {
   "cell_type": "code",
   "execution_count": 46,
   "metadata": {},
   "outputs": [],
   "source": [
    "# Сохраняет решение\n",
    "\n",
    "def save_submission(y_pred):\n",
    "\n",
    "    data = pd.read_csv('data/test_groups.csv')\n",
    "    data['target'] = y_pred\n",
    "    \n",
    "    data = data.drop(['group_id', 'doc_id'], axis=1)\n",
    "\n",
    "    data.to_csv(\"submission.csv\", index=False)\n",
    "    \n",
    "    info = np.unique(data['target'], return_counts=True)\n",
    "    \n",
    "    if info[0].shape[0] > 1:\n",
    "        \n",
    "        print('0: {}, 1: {}'.format(info[1][0], info[1][1]))\n",
    "        if info[1][1] > 3600:\n",
    "            print('Your submisson is shit')\n",
    "    \n",
    "    else:\n",
    "        print('There are only {} in submission'.format(info[0][0]))\n",
    "        \n",
    "    return data"
   ]
  },
  {
   "cell_type": "code",
   "execution_count": 11,
   "metadata": {},
   "outputs": [],
   "source": [
    "# Переводит numpy ndarray в список\n",
    "\n",
    "def ndarray_to_list(array):\n",
    "    \n",
    "    return list(map(lambda x: list(x), array))"
   ]
  },
  {
   "cell_type": "code",
   "execution_count": 12,
   "metadata": {},
   "outputs": [],
   "source": [
    "# Загружает файлы с признаками документов по группам\n",
    "\n",
    "def all_group_feature_list(start_group, finish_group):\n",
    "    \n",
    "    res = np.load('group_features/{}.npy'.format(start_group))\n",
    "  \n",
    "    for group_num in range(start_group + 1, finish_group + 1):\n",
    "#         res += ndarray_to_list(np.load('group_features/{}.npy'.format(group_num)))\n",
    "        res = np.vstack((res, np.load('group_features/{}.npy'.format(group_num))))\n",
    "        \n",
    "    return res"
   ]
  },
  {
   "cell_type": "code",
   "execution_count": 13,
   "metadata": {},
   "outputs": [],
   "source": [
    "# Создает X_train, X_test, train_target\n",
    "\n",
    "def prepare_data():\n",
    "    \n",
    "    X_train = all_group_feature_list(1, 129)\n",
    "    X_test = all_group_feature_list(130, 309)\n",
    "    \n",
    "    d = pd.read_csv('./data/train_groups.csv')\n",
    "    train_target = d['target']\n",
    "    \n",
    "    return X_train, train_target, X_test"
   ]
  },
  {
   "cell_type": "code",
   "execution_count": 14,
   "metadata": {},
   "outputs": [],
   "source": [
    "def predict(X_train, X_test, train_target, model, scaler=None, **kwargs):\n",
    "    \n",
    "    curr_model = model(**kwargs)\n",
    "    \n",
    "    if scaler is not None:\n",
    "        \n",
    "        your_scaler = scaler()\n",
    "        your_scaler.fit(X_train)\n",
    "        X_train = your_scaler.transform(X_train)\n",
    "        X_test = your_scaler.transform(X_test)\n",
    "        \n",
    "    curr_model.fit(X_train, train_target)\n",
    "    y_pred = curr_model.predict(X_test)\n",
    "    \n",
    "    return y_pred"
   ]
  },
  {
   "cell_type": "code",
   "execution_count": 40,
   "metadata": {},
   "outputs": [],
   "source": [
    "# Протестируем разные модели на валидации"
   ]
  },
  {
   "cell_type": "code",
   "execution_count": 30,
   "metadata": {},
   "outputs": [],
   "source": [
    "X_train, train_target, X_test = prepare_data()\n",
    "groups_train = pd.read_csv('data/train_groups.csv')['group_id']"
   ]
  },
  {
   "cell_type": "code",
   "execution_count": 31,
   "metadata": {},
   "outputs": [],
   "source": [
    "params = {'loss': ['log', 'huber'],\n",
    "          'alpha': [0.01, 0.001, 0.0001]}"
   ]
  },
  {
   "cell_type": "code",
   "execution_count": 32,
   "metadata": {
    "scrolled": true
   },
   "outputs": [
    {
     "name": "stdout",
     "output_type": "stream",
     "text": [
      "--------max-------\n",
      "(0.5030492098127316, {'loss': 'log', 'alpha': 0.0001})\n"
     ]
    }
   ],
   "source": [
    "best = validation(X_train, train_target, SGDClassifier, params, group_fold_generator, groups_train=groups_train, folds_num=10)"
   ]
  },
  {
   "cell_type": "code",
   "execution_count": 33,
   "metadata": {},
   "outputs": [
    {
     "name": "stdout",
     "output_type": "stream",
     "text": [
      "0: 9973, 1: 6654\n",
      "Your submisson is shit\n"
     ]
    }
   ],
   "source": [
    "X_train, train_target, X_test = prepare_data()\n",
    "y_pred = predict(X_train, X_test, train_target, SGDClassifier, **best[1])\n",
    "data = save_submission(y_pred)"
   ]
  },
  {
   "cell_type": "code",
   "execution_count": 34,
   "metadata": {},
   "outputs": [],
   "source": [
    "params = {'algorithm': ['ball_tree', 'kd_tree', 'brute'],\n",
    "          'n_neighbors': [5, 6, 7, 8, 9, 20],\n",
    "          'weights': ['uniform', 'distance']}"
   ]
  },
  {
   "cell_type": "code",
   "execution_count": 35,
   "metadata": {
    "scrolled": true
   },
   "outputs": [
    {
     "name": "stdout",
     "output_type": "stream",
     "text": [
      "--------max-------\n",
      "(0.6286854505742006, {'algorithm': 'kd_tree', 'n_neighbors': 5, 'weights': 'distance'})\n"
     ]
    }
   ],
   "source": [
    "best = validation(X_train, train_target, KNeighborsClassifier, params, group_fold_generator, groups_train=groups_train, folds_num=43)"
   ]
  },
  {
   "cell_type": "code",
   "execution_count": 36,
   "metadata": {
    "scrolled": true
   },
   "outputs": [
    {
     "name": "stdout",
     "output_type": "stream",
     "text": [
      "0: 12999, 1: 3628\n",
      "Your submisson is shit\n"
     ]
    },
    {
     "data": {
      "text/html": [
       "<div>\n",
       "<style scoped>\n",
       "    .dataframe tbody tr th:only-of-type {\n",
       "        vertical-align: middle;\n",
       "    }\n",
       "\n",
       "    .dataframe tbody tr th {\n",
       "        vertical-align: top;\n",
       "    }\n",
       "\n",
       "    .dataframe thead th {\n",
       "        text-align: right;\n",
       "    }\n",
       "</style>\n",
       "<table border=\"1\" class=\"dataframe\">\n",
       "  <thead>\n",
       "    <tr style=\"text-align: right;\">\n",
       "      <th></th>\n",
       "      <th>pair_id</th>\n",
       "      <th>target</th>\n",
       "    </tr>\n",
       "  </thead>\n",
       "  <tbody>\n",
       "    <tr>\n",
       "      <th>0</th>\n",
       "      <td>11691</td>\n",
       "      <td>1</td>\n",
       "    </tr>\n",
       "    <tr>\n",
       "      <th>1</th>\n",
       "      <td>11692</td>\n",
       "      <td>0</td>\n",
       "    </tr>\n",
       "    <tr>\n",
       "      <th>2</th>\n",
       "      <td>11693</td>\n",
       "      <td>0</td>\n",
       "    </tr>\n",
       "    <tr>\n",
       "      <th>3</th>\n",
       "      <td>11694</td>\n",
       "      <td>1</td>\n",
       "    </tr>\n",
       "    <tr>\n",
       "      <th>4</th>\n",
       "      <td>11695</td>\n",
       "      <td>0</td>\n",
       "    </tr>\n",
       "    <tr>\n",
       "      <th>...</th>\n",
       "      <td>...</td>\n",
       "      <td>...</td>\n",
       "    </tr>\n",
       "    <tr>\n",
       "      <th>16622</th>\n",
       "      <td>28313</td>\n",
       "      <td>1</td>\n",
       "    </tr>\n",
       "    <tr>\n",
       "      <th>16623</th>\n",
       "      <td>28314</td>\n",
       "      <td>0</td>\n",
       "    </tr>\n",
       "    <tr>\n",
       "      <th>16624</th>\n",
       "      <td>28315</td>\n",
       "      <td>1</td>\n",
       "    </tr>\n",
       "    <tr>\n",
       "      <th>16625</th>\n",
       "      <td>28316</td>\n",
       "      <td>1</td>\n",
       "    </tr>\n",
       "    <tr>\n",
       "      <th>16626</th>\n",
       "      <td>28317</td>\n",
       "      <td>1</td>\n",
       "    </tr>\n",
       "  </tbody>\n",
       "</table>\n",
       "<p>16627 rows × 2 columns</p>\n",
       "</div>"
      ],
      "text/plain": [
       "       pair_id  target\n",
       "0        11691       1\n",
       "1        11692       0\n",
       "2        11693       0\n",
       "3        11694       1\n",
       "4        11695       0\n",
       "...        ...     ...\n",
       "16622    28313       1\n",
       "16623    28314       0\n",
       "16624    28315       1\n",
       "16625    28316       1\n",
       "16626    28317       1\n",
       "\n",
       "[16627 rows x 2 columns]"
      ]
     },
     "execution_count": 36,
     "metadata": {},
     "output_type": "execute_result"
    }
   ],
   "source": [
    "X_train, train_target, X_test = prepare_data()\n",
    "y_pred = predict(X_train, X_test, train_target, KNeighborsClassifier, **best[1])\n",
    "data = save_submission(y_pred)\n",
    "data"
   ]
  },
  {
   "cell_type": "code",
   "execution_count": 37,
   "metadata": {},
   "outputs": [],
   "source": [
    "params = {'n_estimators': [100, 200, 500],\n",
    "          'criterion': ['gini', 'entropy'],\n",
    "          'max_depth': [10, 15, None],\n",
    "          'n_jobs': [-1]}"
   ]
  },
  {
   "cell_type": "code",
   "execution_count": 39,
   "metadata": {
    "scrolled": true
   },
   "outputs": [
    {
     "name": "stdout",
     "output_type": "stream",
     "text": [
      "--------max-------\n",
      "(0.639224222609558, {'n_estimators': 200, 'criterion': 'entropy', 'max_depth': None, 'n_jobs': -1})\n"
     ]
    }
   ],
   "source": [
    "best = validation(X_train, train_target, RandomForestClassifier, params, group_fold_generator, groups_train=groups_train, folds_num=10)"
   ]
  },
  {
   "cell_type": "code",
   "execution_count": 41,
   "metadata": {},
   "outputs": [
    {
     "name": "stdout",
     "output_type": "stream",
     "text": [
      "0: 13215, 1: 3412\n"
     ]
    },
    {
     "data": {
      "text/html": [
       "<div>\n",
       "<style scoped>\n",
       "    .dataframe tbody tr th:only-of-type {\n",
       "        vertical-align: middle;\n",
       "    }\n",
       "\n",
       "    .dataframe tbody tr th {\n",
       "        vertical-align: top;\n",
       "    }\n",
       "\n",
       "    .dataframe thead th {\n",
       "        text-align: right;\n",
       "    }\n",
       "</style>\n",
       "<table border=\"1\" class=\"dataframe\">\n",
       "  <thead>\n",
       "    <tr style=\"text-align: right;\">\n",
       "      <th></th>\n",
       "      <th>pair_id</th>\n",
       "      <th>target</th>\n",
       "    </tr>\n",
       "  </thead>\n",
       "  <tbody>\n",
       "    <tr>\n",
       "      <th>0</th>\n",
       "      <td>11691</td>\n",
       "      <td>1</td>\n",
       "    </tr>\n",
       "    <tr>\n",
       "      <th>1</th>\n",
       "      <td>11692</td>\n",
       "      <td>0</td>\n",
       "    </tr>\n",
       "    <tr>\n",
       "      <th>2</th>\n",
       "      <td>11693</td>\n",
       "      <td>0</td>\n",
       "    </tr>\n",
       "    <tr>\n",
       "      <th>3</th>\n",
       "      <td>11694</td>\n",
       "      <td>1</td>\n",
       "    </tr>\n",
       "    <tr>\n",
       "      <th>4</th>\n",
       "      <td>11695</td>\n",
       "      <td>0</td>\n",
       "    </tr>\n",
       "    <tr>\n",
       "      <th>...</th>\n",
       "      <td>...</td>\n",
       "      <td>...</td>\n",
       "    </tr>\n",
       "    <tr>\n",
       "      <th>16622</th>\n",
       "      <td>28313</td>\n",
       "      <td>1</td>\n",
       "    </tr>\n",
       "    <tr>\n",
       "      <th>16623</th>\n",
       "      <td>28314</td>\n",
       "      <td>0</td>\n",
       "    </tr>\n",
       "    <tr>\n",
       "      <th>16624</th>\n",
       "      <td>28315</td>\n",
       "      <td>1</td>\n",
       "    </tr>\n",
       "    <tr>\n",
       "      <th>16625</th>\n",
       "      <td>28316</td>\n",
       "      <td>1</td>\n",
       "    </tr>\n",
       "    <tr>\n",
       "      <th>16626</th>\n",
       "      <td>28317</td>\n",
       "      <td>1</td>\n",
       "    </tr>\n",
       "  </tbody>\n",
       "</table>\n",
       "<p>16627 rows × 2 columns</p>\n",
       "</div>"
      ],
      "text/plain": [
       "       pair_id  target\n",
       "0        11691       1\n",
       "1        11692       0\n",
       "2        11693       0\n",
       "3        11694       1\n",
       "4        11695       0\n",
       "...        ...     ...\n",
       "16622    28313       1\n",
       "16623    28314       0\n",
       "16624    28315       1\n",
       "16625    28316       1\n",
       "16626    28317       1\n",
       "\n",
       "[16627 rows x 2 columns]"
      ]
     },
     "execution_count": 41,
     "metadata": {},
     "output_type": "execute_result"
    }
   ],
   "source": [
    "X_train, train_target, X_test = prepare_data()\n",
    "y_pred = predict(X_train, X_test, train_target, RandomForestClassifier, **best[1])\n",
    "data = save_submission(y_pred)\n",
    "data"
   ]
  },
  {
   "cell_type": "code",
   "execution_count": 42,
   "metadata": {},
   "outputs": [],
   "source": [
    "params = {'loss': ['log'],\n",
    "          'alpha': [0.0001, 0.001]}"
   ]
  },
  {
   "cell_type": "code",
   "execution_count": 43,
   "metadata": {},
   "outputs": [
    {
     "name": "stdout",
     "output_type": "stream",
     "text": [
      "--------max-------\n",
      "(0.5009926131684524, {'loss': 'log', 'alpha': 0.0001})\n"
     ]
    }
   ],
   "source": [
    "best = validation(X_train, train_target, SGDClassifier, params, group_fold_generator, groups_train=groups_train, folds_num=10)"
   ]
  },
  {
   "cell_type": "code",
   "execution_count": 47,
   "metadata": {},
   "outputs": [
    {
     "name": "stdout",
     "output_type": "stream",
     "text": [
      "There are only 0 in submission\n"
     ]
    }
   ],
   "source": [
    "X_train, train_target, X_test = prepare_data()\n",
    "y_pred = predict(X_train, X_test, train_target, SGDClassifier, StandardScaler, loss='log')\n",
    "data = save_submission(y_pred)"
   ]
  },
  {
   "cell_type": "code",
   "execution_count": null,
   "metadata": {},
   "outputs": [],
   "source": []
  }
 ],
 "metadata": {
  "kernelspec": {
   "display_name": "Python 3",
   "language": "python",
   "name": "python3"
  },
  "language_info": {
   "codemirror_mode": {
    "name": "ipython",
    "version": 3
   },
   "file_extension": ".py",
   "mimetype": "text/x-python",
   "name": "python",
   "nbconvert_exporter": "python",
   "pygments_lexer": "ipython3",
   "version": "3.7.6"
  }
 },
 "nbformat": 4,
 "nbformat_minor": 4
}
