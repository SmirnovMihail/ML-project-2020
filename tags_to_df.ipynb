{
 "cells": [
  {
   "cell_type": "code",
   "execution_count": 1,
   "metadata": {},
   "outputs": [],
   "source": [
    "import numpy as np\n",
    "import re\n",
    "import requests\n",
    "import pandas as pd\n",
    "from bs4 import BeautifulSoup"
   ]
  },
  {
   "cell_type": "code",
   "execution_count": 2,
   "metadata": {},
   "outputs": [],
   "source": [
    "def resub_(words_):\n",
    "    words_ = re.sub(r'\\W', ' ', words_)\n",
    "    words_ = re.sub(r'\\d', ' ', words_)\n",
    "    words_ = re.sub(r'\\b\\w{0,2}\\b', ' ', words_)\n",
    "    words_ = re.sub('\\s+', ' ', words_)\n",
    "    return words_"
   ]
  },
  {
   "cell_type": "code",
   "execution_count": 3,
   "metadata": {},
   "outputs": [],
   "source": [
    "def get_headings(soup):\n",
    "    tag_title_ = str()\n",
    "    tag_h1_ = str()\n",
    "    tag_h2_ = str()\n",
    "    tag_h3_ = str()\n",
    "    tag_a_ = str()\n",
    "    \n",
    "    for title in soup.find_all(['title']):\n",
    "        tag_title_ += (title.text + ' ')\n",
    "        \n",
    "    for h1 in soup.find_all(['h1']):\n",
    "        tag_h1_ += (h1.text + ' ')\n",
    "\n",
    "    for h2 in soup.find_all(['h2']):\n",
    "        tag_h2_ += (h2.text + ' ')\n",
    "\n",
    "    for h3 in soup.find_all(['h3']):\n",
    "        tag_h3_ += (h3.text + ' ')\n",
    "\n",
    "    for a in soup.find_all(['a']):\n",
    "        tag_a_ += (a.text + ' ')\n",
    "    \n",
    "    tag_title_ = resub_(tag_title_)\n",
    "    tag_h1_ = resub_(tag_h1_)\n",
    "    tag_h2_ = resub_(tag_h2_)\n",
    "    tag_h3_ = resub_(tag_h3_)\n",
    "    tag_a_ = resub_(tag_a_)\n",
    "    \n",
    "\n",
    "    return tag_title_, tag_h1_, tag_h2_, tag_h3_, tag_a_ "
   ]
  },
  {
   "cell_type": "code",
   "execution_count": 4,
   "metadata": {},
   "outputs": [],
   "source": [
    "#Список имеет следующий вид: list = [text_1, text2, ... , textn]\n",
    "def tags_of_group(docs_id_):\n",
    "    \n",
    "    tag_title_l = list()\n",
    "    tag_h1_l = list()\n",
    "    tag_h2_l = list()\n",
    "    tag_h3_l = list()\n",
    "    tag_a_l = list()\n",
    "    \n",
    "    for i in docs_id_:\n",
    "        \n",
    "        file_ = open('./content/' + str(i) + '.dat', 'r', encoding = 'utf-8')\n",
    "        text_ = file_.read()\n",
    "        soup_ = BeautifulSoup(text_, 'html')\n",
    "        tag_title_, tag_h1_, tag_h2_, tag_h3_, tag_a_ = get_headings(soup_)\n",
    "        tag_title_l.append(tag_title_)\n",
    "        tag_h1_l.append(tag_h1_)\n",
    "        tag_h2_l.append(tag_h2_)\n",
    "        tag_h3_l.append(tag_h3_)\n",
    "        tag_a_l.append(tag_a_)\n",
    "        \n",
    "    return tag_title_l, tag_h1_l, tag_h2_l, tag_h3_l, tag_a_l"
   ]
  },
  {
   "cell_type": "code",
   "execution_count": 81,
   "metadata": {},
   "outputs": [],
   "source": [
    "def get_docs_id(group):\n",
    "    \n",
    "    d = pd.read_csv('./data/test_groups.csv')\n",
    "    df_new = d[d.group_id == group]\n",
    "    \n",
    "    return df_new['doc_id']"
   ]
  },
  {
   "cell_type": "code",
   "execution_count": 64,
   "metadata": {},
   "outputs": [],
   "source": [
    "def a_lot_of_time(start, fin):\n",
    "    c = pd.DataFrame()\n",
    "    for i in range(start, fin + 1):\n",
    "        doc_id = get_docs_id(i)\n",
    "        title_corp, h1_corp, h2_corp, h3_corp, a_corp = tags_of_group(get_docs_id(i))\n",
    "        df = pd.DataFrame({'title'  : pd.Series(title_corp),\n",
    "                           'h1' : pd.Series(h1_corp),\n",
    "                           'h2' : pd.Series(h2_corp),\n",
    "                           'h3' : pd.Series(h3_corp),\n",
    "                           'a'  : pd.Series(a_corp),\n",
    "                           'group_id' : i,\n",
    "                           'doc_id' : list(doc_id)})\n",
    "        c = pd.concat([c,df], ignore_index = True)\n",
    "        print('group', i, 'has been added')\n",
    "    return c"
   ]
  },
  {
   "cell_type": "code",
   "execution_count": 99,
   "metadata": {},
   "outputs": [
    {
     "name": "stdout",
     "output_type": "stream",
     "text": [
      "Wall time: 0 ns\n"
     ]
    }
   ],
   "source": [
    "%%time\n",
    "main_df = a_lot_of_time(130,309)"
   ]
  },
  {
   "cell_type": "code",
   "execution_count": 97,
   "metadata": {},
   "outputs": [],
   "source": [
    "main_df.to_csv('core_test.csv', encoding = 'utf8') #sep = ','"
   ]
  },
  {
   "cell_type": "code",
   "execution_count": 98,
   "metadata": {},
   "outputs": [],
   "source": []
  },
  {
   "cell_type": "code",
   "execution_count": 75,
   "metadata": {},
   "outputs": [],
   "source": []
  },
  {
   "cell_type": "code",
   "execution_count": 76,
   "metadata": {},
   "outputs": [],
   "source": []
  },
  {
   "cell_type": "code",
   "execution_count": null,
   "metadata": {},
   "outputs": [],
   "source": []
  },
  {
   "cell_type": "code",
   "execution_count": null,
   "metadata": {},
   "outputs": [],
   "source": []
  },
  {
   "cell_type": "code",
   "execution_count": null,
   "metadata": {},
   "outputs": [],
   "source": []
  },
  {
   "cell_type": "code",
   "execution_count": null,
   "metadata": {},
   "outputs": [],
   "source": []
  },
  {
   "cell_type": "code",
   "execution_count": null,
   "metadata": {},
   "outputs": [],
   "source": []
  },
  {
   "cell_type": "code",
   "execution_count": null,
   "metadata": {},
   "outputs": [],
   "source": []
  }
 ],
 "metadata": {
  "kernelspec": {
   "display_name": "Python 3",
   "language": "python",
   "name": "python3"
  },
  "language_info": {
   "codemirror_mode": {
    "name": "ipython",
    "version": 3
   },
   "file_extension": ".py",
   "mimetype": "text/x-python",
   "name": "python",
   "nbconvert_exporter": "python",
   "pygments_lexer": "ipython3",
   "version": "3.7.6"
  }
 },
 "nbformat": 4,
 "nbformat_minor": 4
}
