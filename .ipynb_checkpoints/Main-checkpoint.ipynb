{
 "cells": [
  {
   "cell_type": "code",
   "execution_count": 83,
   "metadata": {},
   "outputs": [],
   "source": [
    "import pandas as pd\n",
    "import numpy as np\n",
    "import matplotlib.pyplot as plt\n",
    "import sklearn.metrics as metrics\n",
    "import random"
   ]
  },
  {
   "cell_type": "code",
   "execution_count": 84,
   "metadata": {},
   "outputs": [],
   "source": [
    "from sklearn.linear_model import LinearRegression\n",
    "from sklearn.preprocessing import StandardScaler\n",
    "from sklearn.metrics import accuracy_score\n",
    "from functools import reduce"
   ]
  },
  {
   "cell_type": "code",
   "execution_count": 3,
   "metadata": {},
   "outputs": [],
   "source": [
    "from sklearn.neighbors import KNeighborsClassifier\n",
    "from sklearn.linear_model import SGDClassifier\n",
    "from sklearn.tree import DecisionTreeClassifier\n",
    "from sklearn.ensemble import RandomForestClassifier"
   ]
  },
  {
   "cell_type": "code",
   "execution_count": 147,
   "metadata": {},
   "outputs": [
    {
     "name": "stdout",
     "output_type": "stream",
     "text": [
      "28026\n"
     ]
    }
   ],
   "source": [
    "doc_to_title = {}\n",
    "with open('data/docs_titles.tsv/docs_titles.tsv') as f:\n",
    "    for num_line, line in enumerate(f):\n",
    "        if num_line == 0:\n",
    "            continue\n",
    "#         print(line)\n",
    "        data = line.strip().split('\\t', 1)\n",
    "#         print('data = ',data)\n",
    "        doc_id = int(data[0])\n",
    "        if len(data) == 1:\n",
    "            title = ''\n",
    "        else:\n",
    "            title = data[1]\n",
    "        doc_to_title[doc_id] = title\n",
    "# print(doc_to_title)\n",
    "print (len(doc_to_title)) \n",
    "# doc_to_title #словарь id документа: заголовок"
   ]
  },
  {
   "cell_type": "code",
   "execution_count": 148,
   "metadata": {},
   "outputs": [],
   "source": [
    "import pandas as pd\n",
    "train_data = pd.read_csv('data/train_groups.csv')\n",
    "traingroups_titledata = {}\n",
    "for i in range(len(train_data)):\n",
    "    new_doc = train_data.iloc[i]\n",
    "    doc_group = new_doc['group_id']\n",
    "    doc_id = new_doc['doc_id']\n",
    "    target = new_doc['target']\n",
    "    title = doc_to_title[doc_id]\n",
    "    if doc_group not in traingroups_titledata:\n",
    "        traingroups_titledata[doc_group] = []\n",
    "    traingroups_titledata[doc_group].append((doc_id, title, target))\n",
    "# traingroups_titledata #Словарь номер группы: список пар (Id_doc, заголовок, target) для заголовков этой группы"
   ]
  },
  {
   "cell_type": "code",
   "execution_count": 6,
   "metadata": {},
   "outputs": [
    {
     "name": "stdout",
     "output_type": "stream",
     "text": [
      "[[4 4 3 ... 2 1 1]\n",
      " [8 7 7 ... 2 2 2]\n",
      " [2 2 2 ... 1 1 1]\n",
      " ...\n",
      " [0 0 0 ... 0 0 0]\n",
      " [6 2 1 ... 1 1 1]\n",
      " [3 2 2 ... 1 1 1]] [0 0 0 ... 0 0 0] [  1   1   1 ... 129 129 129] (11690, 15)\n"
     ]
    }
   ],
   "source": [
    "y_train = []\n",
    "X_train = []\n",
    "groups_train = []\n",
    "for new_group in traingroups_titledata:\n",
    "    docs = traingroups_titledata[new_group]\n",
    "    for k, (doc_id, title, target_id) in enumerate(docs):\n",
    "        y_train.append(target_id)\n",
    "        groups_train.append(new_group)\n",
    "        all_dist = []\n",
    "        words = set(title.strip().split())\n",
    "        for j in range(0, len(docs)):\n",
    "            if k == j:\n",
    "                continue\n",
    "            doc_id_j, title_j, target_j = docs[j]\n",
    "            words_j = set(title_j.strip().split())\n",
    "            all_dist.append(len(words.intersection(words_j)))\n",
    "        X_train.append(sorted(all_dist, reverse=True)[0:15]    )\n",
    "X_train = np.array(X_train)\n",
    "y_train = np.array(y_train)\n",
    "groups_train = np.array(groups_train)\n",
    "print (X_train, y_train, groups_train, X_train.shape)"
   ]
  },
  {
   "cell_type": "code",
   "execution_count": 7,
   "metadata": {},
   "outputs": [],
   "source": [
    "test_data = pd.read_csv('data/test_groups.csv')\n",
    "testgroups_titledata = {}\n",
    "\n",
    "for i in range(len(test_data)):\n",
    "    new_doc = test_data.iloc[i]\n",
    "    doc_group = new_doc['group_id']\n",
    "    doc_id = new_doc['doc_id']\n",
    "    title = doc_to_title[doc_id]\n",
    "    if doc_group not in testgroups_titledata:\n",
    "        testgroups_titledata[doc_group] = []\n",
    "    testgroups_titledata[doc_group].append((doc_id, title))"
   ]
  },
  {
   "cell_type": "code",
   "execution_count": 8,
   "metadata": {},
   "outputs": [
    {
     "data": {
      "text/plain": [
       "array([[ 3,  3,  2, ...,  1,  1,  1],\n",
       "       [ 5,  3,  3, ...,  2,  2,  2],\n",
       "       [ 6,  5,  5, ...,  4,  4,  4],\n",
       "       ...,\n",
       "       [ 5,  4,  4, ...,  2,  2,  2],\n",
       "       [ 3,  3,  3, ...,  2,  2,  2],\n",
       "       [14, 14, 14, ...,  2,  2,  2]])"
      ]
     },
     "execution_count": 8,
     "metadata": {},
     "output_type": "execute_result"
    }
   ],
   "source": [
    "X_test = []\n",
    "groups_test = []\n",
    "\n",
    "for new_group in testgroups_titledata:\n",
    "    docs = testgroups_titledata[new_group]\n",
    "    for k, (doc_id, title) in enumerate(docs):\n",
    "        groups_test.append(new_group)\n",
    "        all_dist = []\n",
    "        words = set(title.strip().split())\n",
    "        for j in range(0, len(docs)):\n",
    "            if k == j:\n",
    "                continue\n",
    "            doc_id_j, title_j = docs[j]\n",
    "            words_j = set(title_j.strip().split())\n",
    "            all_dist.append(len(words.intersection(words_j)))\n",
    "        X_test.append(sorted(all_dist, reverse=True)[0:15])\n",
    "X_test = np.array(X_test)\n",
    "groups_test = np.array(groups_test)\n",
    "X_test"
   ]
  },
  {
   "cell_type": "code",
   "execution_count": 9,
   "metadata": {},
   "outputs": [],
   "source": [
    "log_reg = SGDClassifier(loss='log')"
   ]
  },
  {
   "cell_type": "code",
   "execution_count": 10,
   "metadata": {},
   "outputs": [],
   "source": [
    "scaler = StandardScaler()\n",
    "scaler.fit(X_train)\n",
    "log_reg.fit(scaler.transform(X_train), y_train)\n",
    "y_pred = log_reg.predict(scaler.transform(X_test))"
   ]
  },
  {
   "cell_type": "code",
   "execution_count": null,
   "metadata": {},
   "outputs": [],
   "source": []
  },
  {
   "cell_type": "code",
   "execution_count": 11,
   "metadata": {
    "scrolled": true
   },
   "outputs": [
    {
     "data": {
      "text/html": [
       "<div>\n",
       "<style scoped>\n",
       "    .dataframe tbody tr th:only-of-type {\n",
       "        vertical-align: middle;\n",
       "    }\n",
       "\n",
       "    .dataframe tbody tr th {\n",
       "        vertical-align: top;\n",
       "    }\n",
       "\n",
       "    .dataframe thead th {\n",
       "        text-align: right;\n",
       "    }\n",
       "</style>\n",
       "<table border=\"1\" class=\"dataframe\">\n",
       "  <thead>\n",
       "    <tr style=\"text-align: right;\">\n",
       "      <th></th>\n",
       "      <th>pair_id</th>\n",
       "      <th>target</th>\n",
       "    </tr>\n",
       "  </thead>\n",
       "  <tbody>\n",
       "    <tr>\n",
       "      <th>0</th>\n",
       "      <td>11691</td>\n",
       "      <td>0</td>\n",
       "    </tr>\n",
       "    <tr>\n",
       "      <th>1</th>\n",
       "      <td>11692</td>\n",
       "      <td>0</td>\n",
       "    </tr>\n",
       "    <tr>\n",
       "      <th>2</th>\n",
       "      <td>11693</td>\n",
       "      <td>1</td>\n",
       "    </tr>\n",
       "    <tr>\n",
       "      <th>3</th>\n",
       "      <td>11694</td>\n",
       "      <td>1</td>\n",
       "    </tr>\n",
       "    <tr>\n",
       "      <th>4</th>\n",
       "      <td>11695</td>\n",
       "      <td>0</td>\n",
       "    </tr>\n",
       "    <tr>\n",
       "      <th>...</th>\n",
       "      <td>...</td>\n",
       "      <td>...</td>\n",
       "    </tr>\n",
       "    <tr>\n",
       "      <th>16622</th>\n",
       "      <td>28313</td>\n",
       "      <td>0</td>\n",
       "    </tr>\n",
       "    <tr>\n",
       "      <th>16623</th>\n",
       "      <td>28314</td>\n",
       "      <td>0</td>\n",
       "    </tr>\n",
       "    <tr>\n",
       "      <th>16624</th>\n",
       "      <td>28315</td>\n",
       "      <td>1</td>\n",
       "    </tr>\n",
       "    <tr>\n",
       "      <th>16625</th>\n",
       "      <td>28316</td>\n",
       "      <td>0</td>\n",
       "    </tr>\n",
       "    <tr>\n",
       "      <th>16626</th>\n",
       "      <td>28317</td>\n",
       "      <td>1</td>\n",
       "    </tr>\n",
       "  </tbody>\n",
       "</table>\n",
       "<p>16627 rows × 2 columns</p>\n",
       "</div>"
      ],
      "text/plain": [
       "       pair_id  target\n",
       "0        11691       0\n",
       "1        11692       0\n",
       "2        11693       1\n",
       "3        11694       1\n",
       "4        11695       0\n",
       "...        ...     ...\n",
       "16622    28313       0\n",
       "16623    28314       0\n",
       "16624    28315       1\n",
       "16625    28316       0\n",
       "16626    28317       1\n",
       "\n",
       "[16627 rows x 2 columns]"
      ]
     },
     "execution_count": 11,
     "metadata": {},
     "output_type": "execute_result"
    }
   ],
   "source": [
    "data = test_data\n",
    "data['target'] = y_pred\n",
    "data = data.drop(['group_id', 'doc_id'], axis=1)\n",
    "\n",
    "# print(data.head(100))\n",
    "# data['target'] = data['target'].apply(lambda x: 0 if x == -1 else 1)\n",
    "data.to_csv(\"submission.csv\", index=False)\n",
    "data"
   ]
  },
  {
   "cell_type": "code",
   "execution_count": 12,
   "metadata": {},
   "outputs": [
    {
     "data": {
      "text/plain": [
       "(array([0, 1]), array([12531,  4096]))"
      ]
     },
     "execution_count": 12,
     "metadata": {},
     "output_type": "execute_result"
    }
   ],
   "source": [
    "np.unique(data['target'], return_counts=True)"
   ]
  },
  {
   "cell_type": "code",
   "execution_count": 13,
   "metadata": {},
   "outputs": [],
   "source": [
    "from sklearn.model_selection import train_test_split, cross_validate, KFold, cross_val_score"
   ]
  },
  {
   "cell_type": "code",
   "execution_count": 14,
   "metadata": {},
   "outputs": [],
   "source": [
    "def flatten(x):\n",
    "    result = []\n",
    "    for elem in x:\n",
    "        if hasattr(elem, \"__iter__\") and not isinstance(elem, str):\n",
    "            result.extend(flatten(elem))\n",
    "        else:\n",
    "            result.append(elem)\n",
    "    return result"
   ]
  },
  {
   "cell_type": "code",
   "execution_count": 15,
   "metadata": {},
   "outputs": [],
   "source": [
    "def list_concat(list1, list2):\n",
    "    \n",
    "    len1 = len(list1)\n",
    "    len2 = len(list2)\n",
    "    \n",
    "    return [[list1[i], list2[j]] for i in range(len1) for j in range(len2)]"
   ]
  },
  {
   "cell_type": "code",
   "execution_count": 30,
   "metadata": {},
   "outputs": [],
   "source": [
    "def combinations(params):\n",
    "    \n",
    "    list_ = []\n",
    "    for value in params.values():\n",
    "        list_.append(value)\n",
    "\n",
    "    tmp = reduce(lambda x, y: list_concat(x, y), list_)\n",
    "\n",
    "    res = []\n",
    "    for elem in tmp:\n",
    "        param_list = flatten(elem)\n",
    "        param_dict = dict(zip(params.keys(), param_list))\n",
    "        res.append(param_dict)\n",
    "        \n",
    "    return res"
   ]
  },
  {
   "cell_type": "code",
   "execution_count": 31,
   "metadata": {},
   "outputs": [
    {
     "data": {
      "text/plain": [
       "[{'loss': 'log', 'alpha': 0.01, 'test': 1},\n",
       " {'loss': 'log', 'alpha': 0.01, 'test': 2},\n",
       " {'loss': 'log', 'alpha': 0.01, 'test': 3},\n",
       " {'loss': 'log', 'alpha': 0.001, 'test': 1},\n",
       " {'loss': 'log', 'alpha': 0.001, 'test': 2},\n",
       " {'loss': 'log', 'alpha': 0.001, 'test': 3},\n",
       " {'loss': 'log', 'alpha': 0.0001, 'test': 1},\n",
       " {'loss': 'log', 'alpha': 0.0001, 'test': 2},\n",
       " {'loss': 'log', 'alpha': 0.0001, 'test': 3},\n",
       " {'loss': 'huber', 'alpha': 0.01, 'test': 1},\n",
       " {'loss': 'huber', 'alpha': 0.01, 'test': 2},\n",
       " {'loss': 'huber', 'alpha': 0.01, 'test': 3},\n",
       " {'loss': 'huber', 'alpha': 0.001, 'test': 1},\n",
       " {'loss': 'huber', 'alpha': 0.001, 'test': 2},\n",
       " {'loss': 'huber', 'alpha': 0.001, 'test': 3},\n",
       " {'loss': 'huber', 'alpha': 0.0001, 'test': 1},\n",
       " {'loss': 'huber', 'alpha': 0.0001, 'test': 2},\n",
       " {'loss': 'huber', 'alpha': 0.0001, 'test': 3}]"
      ]
     },
     "execution_count": 31,
     "metadata": {},
     "output_type": "execute_result"
    }
   ],
   "source": [
    "combinations(params)"
   ]
  },
  {
   "cell_type": "code",
   "execution_count": 33,
   "metadata": {},
   "outputs": [],
   "source": [
    "def group_fold_generator(X_train, train_target, groups_train, folds_num=10):\n",
    "    \n",
    "    groups_num = np.unique(groups_train).shape[0]\n",
    "    \n",
    "    for i in range(folds_num):\n",
    "        \n",
    "        a = [random.randint(1, groups_num) for i in range(groups_num // folds_num)]\n",
    "\n",
    "        test_index = [i for i, x in enumerate(groups_train) if x in a]\n",
    "        train_index = [i for i, x in enumerate(groups_train) if x not in a]\n",
    "\n",
    "        yield train_index, test_index"
   ]
  },
  {
   "cell_type": "code",
   "execution_count": 45,
   "metadata": {},
   "outputs": [],
   "source": [
    "testx = [1, 2, 3, 4, 5, 6, 7, 8, 9, 10, 11, 12, 13, 14, 15, 16]\n",
    "testy = [1, 1, 0, 0, 1, 1, 0, 0, 1, 1, 0, 0, 1, 1, 0, 0]\n",
    "testg = [1, 1, 2, 2, 3, 3, 4, 4, 5, 5, 6, 6, 7, 7, 8, 8]"
   ]
  },
  {
   "cell_type": "code",
   "execution_count": 46,
   "metadata": {
    "scrolled": true
   },
   "outputs": [
    {
     "name": "stdout",
     "output_type": "stream",
     "text": [
      "[0, 1, 2, 3, 4, 5, 8, 9, 10, 11, 12, 13, 14, 15] [6, 7]\n",
      "[2, 3, 4, 5, 6, 7, 8, 9, 10, 11, 14, 15] [0, 1, 12, 13]\n",
      "[2, 3, 4, 5, 6, 7, 10, 11, 12, 13, 14, 15] [0, 1, 8, 9]\n"
     ]
    }
   ],
   "source": [
    "for i, x in group_fold_generator(testx, testy, testg, folds_num=3):\n",
    "    print(i, x)"
   ]
  },
  {
   "cell_type": "code",
   "execution_count": 47,
   "metadata": {},
   "outputs": [],
   "source": [
    "def default_fold_generator(X_train, train_target, folds_num=10, shuffle=False):\n",
    "    \n",
    "    folds = KFold(folds_num, shuffle = shuffle)\n",
    "    \n",
    "    return folds.split(X_train, train_target)"
   ]
  },
  {
   "cell_type": "code",
   "execution_count": 141,
   "metadata": {},
   "outputs": [],
   "source": [
    "def validation(X_train, train_target, model, params, folds_gen_func=default_fold_generator, **kwargs):\n",
    "    \n",
    "    scaler = StandardScaler()\n",
    "    scaler.fit(X_train) \n",
    "    \n",
    "    main_res = []\n",
    "    for param_set in combinations(params):\n",
    "        \n",
    "        print(param_set)        \n",
    "        exact_model = model(**param_set) \n",
    "        \n",
    "        fold_generator = folds_gen_func(X_train, train_target, **kwargs)\n",
    "        \n",
    "        res = []\n",
    "        for train_index, test_index in fold_generator:\n",
    "\n",
    "            exact_model.fit(scaler.transform(X_train[train_index]), train_target[train_index])\n",
    "            res.append(metrics.roc_auc_score(train_target[test_index],\\\n",
    "                                      exact_model.predict(scaler.transform(X_train[test_index]))))\n",
    "            \n",
    "        mean = sum(res)/len(res)\n",
    "        print(mean)\n",
    "        main_res.append((mean, param_set))\n",
    "    \n",
    "    best = main_res[np.argmax([res[0] for res in main_res])]\n",
    "    print('--------max-------')\n",
    "    print(best)\n",
    "    \n",
    "    return best"
   ]
  },
  {
   "cell_type": "code",
   "execution_count": 142,
   "metadata": {},
   "outputs": [],
   "source": [
    "params = {'loss': ['log', 'huber'],\n",
    "          'alpha': [0.01, 0.001, 0.0001]}"
   ]
  },
  {
   "cell_type": "code",
   "execution_count": 143,
   "metadata": {},
   "outputs": [
    {
     "data": {
      "text/plain": [
       "[{'loss': 'log', 'alpha': 0.01},\n",
       " {'loss': 'log', 'alpha': 0.001},\n",
       " {'loss': 'log', 'alpha': 0.0001},\n",
       " {'loss': 'huber', 'alpha': 0.01},\n",
       " {'loss': 'huber', 'alpha': 0.001},\n",
       " {'loss': 'huber', 'alpha': 0.0001}]"
      ]
     },
     "execution_count": 143,
     "metadata": {},
     "output_type": "execute_result"
    }
   ],
   "source": [
    "combinations(params)"
   ]
  },
  {
   "cell_type": "code",
   "execution_count": 144,
   "metadata": {
    "scrolled": false
   },
   "outputs": [
    {
     "name": "stdout",
     "output_type": "stream",
     "text": [
      "{'loss': 'log', 'alpha': 0.01}\n",
      "0.6773975755100343\n",
      "{'loss': 'log', 'alpha': 0.001}\n",
      "0.6821486785321039\n",
      "{'loss': 'log', 'alpha': 0.0001}\n",
      "0.6652391027394283\n",
      "{'loss': 'huber', 'alpha': 0.01}\n",
      "0.5875335507032415\n",
      "{'loss': 'huber', 'alpha': 0.001}\n",
      "0.5958076774134982\n",
      "{'loss': 'huber', 'alpha': 0.0001}\n",
      "0.6104735350284446\n",
      "--------max-------\n",
      "(0.6821486785321039, {'loss': 'log', 'alpha': 0.001})\n"
     ]
    },
    {
     "data": {
      "text/plain": [
       "(0.6821486785321039, {'loss': 'log', 'alpha': 0.001})"
      ]
     },
     "execution_count": 144,
     "metadata": {},
     "output_type": "execute_result"
    }
   ],
   "source": [
    "validation(X_train, y_train, SGDClassifier, params, group_fold_generator, groups_train=groups_train, folds_num=10)"
   ]
  },
  {
   "cell_type": "code",
   "execution_count": 145,
   "metadata": {},
   "outputs": [],
   "source": [
    "params = {'algorithm': ['ball_tree', 'kd_tree', 'brute'],\n",
    "          'n_neighbors': [3, 4, 5, 6, 7, 8, 9],\n",
    "          'weights': ['uniform', 'distance']}"
   ]
  },
  {
   "cell_type": "code",
   "execution_count": 146,
   "metadata": {
    "scrolled": true
   },
   "outputs": [
    {
     "name": "stdout",
     "output_type": "stream",
     "text": [
      "{'algorithm': 'ball_tree', 'n_neighbors': 3, 'weights': 'uniform'}\n",
      "0.6343889493876655\n",
      "{'algorithm': 'ball_tree', 'n_neighbors': 3, 'weights': 'distance'}\n",
      "0.6004258645162373\n",
      "{'algorithm': 'ball_tree', 'n_neighbors': 4, 'weights': 'uniform'}\n",
      "0.6127212696295192\n",
      "{'algorithm': 'ball_tree', 'n_neighbors': 4, 'weights': 'distance'}\n",
      "0.6446129412342354\n",
      "{'algorithm': 'ball_tree', 'n_neighbors': 5, 'weights': 'uniform'}\n",
      "0.631803203683431\n",
      "{'algorithm': 'ball_tree', 'n_neighbors': 5, 'weights': 'distance'}\n",
      "0.645270681270512\n",
      "{'algorithm': 'ball_tree', 'n_neighbors': 6, 'weights': 'uniform'}\n",
      "0.6462149864343416\n",
      "{'algorithm': 'ball_tree', 'n_neighbors': 6, 'weights': 'distance'}\n",
      "0.6281836783625667\n",
      "{'algorithm': 'ball_tree', 'n_neighbors': 7, 'weights': 'uniform'}\n",
      "0.6368612454738048\n",
      "{'algorithm': 'ball_tree', 'n_neighbors': 7, 'weights': 'distance'}\n",
      "0.6490938664481747\n",
      "{'algorithm': 'ball_tree', 'n_neighbors': 8, 'weights': 'uniform'}\n",
      "0.6278316202928559\n",
      "{'algorithm': 'ball_tree', 'n_neighbors': 8, 'weights': 'distance'}\n",
      "0.6362104485189423\n",
      "{'algorithm': 'ball_tree', 'n_neighbors': 9, 'weights': 'uniform'}\n",
      "0.6628184865414973\n",
      "{'algorithm': 'ball_tree', 'n_neighbors': 9, 'weights': 'distance'}\n",
      "0.6433574261078379\n",
      "{'algorithm': 'kd_tree', 'n_neighbors': 3, 'weights': 'uniform'}\n",
      "0.6137157993971369\n",
      "{'algorithm': 'kd_tree', 'n_neighbors': 3, 'weights': 'distance'}\n",
      "0.6344293170907837\n",
      "{'algorithm': 'kd_tree', 'n_neighbors': 4, 'weights': 'uniform'}\n",
      "0.6228579344133308\n",
      "{'algorithm': 'kd_tree', 'n_neighbors': 4, 'weights': 'distance'}\n",
      "0.6246812817785801\n",
      "{'algorithm': 'kd_tree', 'n_neighbors': 5, 'weights': 'uniform'}\n",
      "0.6340475743921715\n",
      "{'algorithm': 'kd_tree', 'n_neighbors': 5, 'weights': 'distance'}\n",
      "0.6231970600349304\n",
      "{'algorithm': 'kd_tree', 'n_neighbors': 6, 'weights': 'uniform'}\n",
      "0.611902538272492\n",
      "{'algorithm': 'kd_tree', 'n_neighbors': 6, 'weights': 'distance'}\n",
      "0.6387768160501482\n",
      "{'algorithm': 'kd_tree', 'n_neighbors': 7, 'weights': 'uniform'}\n",
      "0.6515232357276141\n",
      "{'algorithm': 'kd_tree', 'n_neighbors': 7, 'weights': 'distance'}\n",
      "0.6277195347949597\n",
      "{'algorithm': 'kd_tree', 'n_neighbors': 8, 'weights': 'uniform'}\n",
      "0.6328526028233432\n",
      "{'algorithm': 'kd_tree', 'n_neighbors': 8, 'weights': 'distance'}\n",
      "0.6611220867457672\n",
      "{'algorithm': 'kd_tree', 'n_neighbors': 9, 'weights': 'uniform'}\n",
      "0.637082953388159\n",
      "{'algorithm': 'kd_tree', 'n_neighbors': 9, 'weights': 'distance'}\n",
      "0.6619499175415147\n",
      "{'algorithm': 'brute', 'n_neighbors': 3, 'weights': 'uniform'}\n",
      "0.6466196566467262\n",
      "{'algorithm': 'brute', 'n_neighbors': 3, 'weights': 'distance'}\n",
      "0.6287652440114361\n",
      "{'algorithm': 'brute', 'n_neighbors': 4, 'weights': 'uniform'}\n",
      "0.5889912137766093\n",
      "{'algorithm': 'brute', 'n_neighbors': 4, 'weights': 'distance'}\n",
      "0.6016614877065205\n",
      "{'algorithm': 'brute', 'n_neighbors': 5, 'weights': 'uniform'}\n",
      "0.6565372363811628\n",
      "{'algorithm': 'brute', 'n_neighbors': 5, 'weights': 'distance'}\n",
      "0.6403969293037872\n",
      "{'algorithm': 'brute', 'n_neighbors': 6, 'weights': 'uniform'}\n",
      "0.6274190353242635\n",
      "{'algorithm': 'brute', 'n_neighbors': 6, 'weights': 'distance'}\n",
      "0.635579051667409\n",
      "{'algorithm': 'brute', 'n_neighbors': 7, 'weights': 'uniform'}\n",
      "0.5932004833010812\n",
      "{'algorithm': 'brute', 'n_neighbors': 7, 'weights': 'distance'}\n",
      "0.6291282322641141\n",
      "{'algorithm': 'brute', 'n_neighbors': 8, 'weights': 'uniform'}\n",
      "0.6526537838614658\n",
      "{'algorithm': 'brute', 'n_neighbors': 8, 'weights': 'distance'}\n",
      "0.6348188015001931\n",
      "{'algorithm': 'brute', 'n_neighbors': 9, 'weights': 'uniform'}\n",
      "0.6433286735366808\n",
      "{'algorithm': 'brute', 'n_neighbors': 9, 'weights': 'distance'}\n",
      "0.6730239511912788\n",
      "--------max-------\n",
      "(0.6730239511912788, {'algorithm': 'brute', 'n_neighbors': 9, 'weights': 'distance'})\n"
     ]
    },
    {
     "data": {
      "text/plain": [
       "(0.6730239511912788,\n",
       " {'algorithm': 'brute', 'n_neighbors': 9, 'weights': 'distance'})"
      ]
     },
     "execution_count": 146,
     "metadata": {},
     "output_type": "execute_result"
    }
   ],
   "source": [
    "validation(X_train, y_train, KNeighborsClassifier, params, group_fold_generator, groups_train=groups_train, folds_num=43)"
   ]
  },
  {
   "cell_type": "code",
   "execution_count": 64,
   "metadata": {},
   "outputs": [
    {
     "name": "stdout",
     "output_type": "stream",
     "text": [
      "KNeighborsClassifier(algorithm='brute', leaf_size=30, metric='minkowski',\n",
      "                     metric_params=None, n_jobs=None, n_neighbors=7, p=2,\n",
      "                     weights='distance')\n"
     ]
    }
   ],
   "source": [
    "scaler = StandardScaler()\n",
    "scaler.fit(X_train) \n",
    "clf = KNeighborsClassifier(algorithm='brute', n_neighbors=7, weights='distance')\n",
    "print(clf.fit(scaler.transform(X_train), y_train))"
   ]
  },
  {
   "cell_type": "code",
   "execution_count": 65,
   "metadata": {},
   "outputs": [
    {
     "name": "stdout",
     "output_type": "stream",
     "text": [
      "[0 1 0 ... 0 1 1]\n"
     ]
    }
   ],
   "source": [
    "y_pred = clf.predict(scaler.transform(X_test))\n",
    "print(y_pred)"
   ]
  },
  {
   "cell_type": "code",
   "execution_count": 66,
   "metadata": {},
   "outputs": [
    {
     "data": {
      "text/html": [
       "<div>\n",
       "<style scoped>\n",
       "    .dataframe tbody tr th:only-of-type {\n",
       "        vertical-align: middle;\n",
       "    }\n",
       "\n",
       "    .dataframe tbody tr th {\n",
       "        vertical-align: top;\n",
       "    }\n",
       "\n",
       "    .dataframe thead th {\n",
       "        text-align: right;\n",
       "    }\n",
       "</style>\n",
       "<table border=\"1\" class=\"dataframe\">\n",
       "  <thead>\n",
       "    <tr style=\"text-align: right;\">\n",
       "      <th></th>\n",
       "      <th>pair_id</th>\n",
       "      <th>target</th>\n",
       "    </tr>\n",
       "  </thead>\n",
       "  <tbody>\n",
       "    <tr>\n",
       "      <th>0</th>\n",
       "      <td>11691</td>\n",
       "      <td>0</td>\n",
       "    </tr>\n",
       "    <tr>\n",
       "      <th>1</th>\n",
       "      <td>11692</td>\n",
       "      <td>1</td>\n",
       "    </tr>\n",
       "    <tr>\n",
       "      <th>2</th>\n",
       "      <td>11693</td>\n",
       "      <td>0</td>\n",
       "    </tr>\n",
       "    <tr>\n",
       "      <th>3</th>\n",
       "      <td>11694</td>\n",
       "      <td>1</td>\n",
       "    </tr>\n",
       "    <tr>\n",
       "      <th>4</th>\n",
       "      <td>11695</td>\n",
       "      <td>0</td>\n",
       "    </tr>\n",
       "    <tr>\n",
       "      <th>...</th>\n",
       "      <td>...</td>\n",
       "      <td>...</td>\n",
       "    </tr>\n",
       "    <tr>\n",
       "      <th>16622</th>\n",
       "      <td>28313</td>\n",
       "      <td>0</td>\n",
       "    </tr>\n",
       "    <tr>\n",
       "      <th>16623</th>\n",
       "      <td>28314</td>\n",
       "      <td>0</td>\n",
       "    </tr>\n",
       "    <tr>\n",
       "      <th>16624</th>\n",
       "      <td>28315</td>\n",
       "      <td>0</td>\n",
       "    </tr>\n",
       "    <tr>\n",
       "      <th>16625</th>\n",
       "      <td>28316</td>\n",
       "      <td>1</td>\n",
       "    </tr>\n",
       "    <tr>\n",
       "      <th>16626</th>\n",
       "      <td>28317</td>\n",
       "      <td>1</td>\n",
       "    </tr>\n",
       "  </tbody>\n",
       "</table>\n",
       "<p>16627 rows × 2 columns</p>\n",
       "</div>"
      ],
      "text/plain": [
       "       pair_id  target\n",
       "0        11691       0\n",
       "1        11692       1\n",
       "2        11693       0\n",
       "3        11694       1\n",
       "4        11695       0\n",
       "...        ...     ...\n",
       "16622    28313       0\n",
       "16623    28314       0\n",
       "16624    28315       0\n",
       "16625    28316       1\n",
       "16626    28317       1\n",
       "\n",
       "[16627 rows x 2 columns]"
      ]
     },
     "execution_count": 66,
     "metadata": {},
     "output_type": "execute_result"
    }
   ],
   "source": [
    "data = test_data\n",
    "data['target'] = y_pred\n",
    "data = data.drop(['group_id', 'doc_id'], axis=1)\n",
    "\n",
    "# print(data.head(100))\n",
    "# data['target'] = data['target'].apply(lambda x: 0 if x == -1 else 1)\n",
    "data.to_csv(\"submission.csv\", index=False)\n",
    "data"
   ]
  },
  {
   "cell_type": "code",
   "execution_count": 67,
   "metadata": {
    "scrolled": true
   },
   "outputs": [
    {
     "data": {
      "text/plain": [
       "(array([0, 1]), array([12886,  3741]))"
      ]
     },
     "execution_count": 67,
     "metadata": {},
     "output_type": "execute_result"
    }
   ],
   "source": [
    "np.unique(data['target'], return_counts=True)"
   ]
  },
  {
   "cell_type": "code",
   "execution_count": 68,
   "metadata": {},
   "outputs": [],
   "source": [
    "params = {'n_estimators': [100, 200, 500, 1000],\n",
    "          'criterion': ['gini', 'entropy'],\n",
    "          'max_depth': [10, 15, None],\n",
    "          'n_jobs': [-1]}"
   ]
  },
  {
   "cell_type": "code",
   "execution_count": 69,
   "metadata": {
    "scrolled": true
   },
   "outputs": [
    {
     "name": "stdout",
     "output_type": "stream",
     "text": [
      "{'n_estimators': 100, 'criterion': 'gini', 'max_depth': 10, 'n_jobs': -1}\n",
      "0.6704299199571107\n",
      "{'n_estimators': 100, 'criterion': 'gini', 'max_depth': 15, 'n_jobs': -1}\n",
      "0.657575455696904\n",
      "{'n_estimators': 100, 'criterion': 'gini', 'max_depth': None, 'n_jobs': -1}\n",
      "0.6532749827169279\n",
      "{'n_estimators': 100, 'criterion': 'entropy', 'max_depth': 10, 'n_jobs': -1}\n",
      "0.6839848103541722\n",
      "{'n_estimators': 100, 'criterion': 'entropy', 'max_depth': 15, 'n_jobs': -1}\n",
      "0.7001529039815791\n",
      "{'n_estimators': 100, 'criterion': 'entropy', 'max_depth': None, 'n_jobs': -1}\n",
      "0.6489330733847145\n",
      "{'n_estimators': 200, 'criterion': 'gini', 'max_depth': 10, 'n_jobs': -1}\n",
      "0.653281615873575\n",
      "{'n_estimators': 200, 'criterion': 'gini', 'max_depth': 15, 'n_jobs': -1}\n",
      "0.676515027188833\n",
      "{'n_estimators': 200, 'criterion': 'gini', 'max_depth': None, 'n_jobs': -1}\n",
      "0.6539468724973003\n",
      "{'n_estimators': 200, 'criterion': 'entropy', 'max_depth': 10, 'n_jobs': -1}\n",
      "0.6735844696499337\n",
      "{'n_estimators': 200, 'criterion': 'entropy', 'max_depth': 15, 'n_jobs': -1}\n",
      "0.6841253806757768\n",
      "{'n_estimators': 200, 'criterion': 'entropy', 'max_depth': None, 'n_jobs': -1}\n",
      "0.6633641136124171\n",
      "{'n_estimators': 500, 'criterion': 'gini', 'max_depth': 10, 'n_jobs': -1}\n",
      "0.6570224855394455\n",
      "{'n_estimators': 500, 'criterion': 'gini', 'max_depth': 15, 'n_jobs': -1}\n",
      "0.680774283030358\n",
      "{'n_estimators': 500, 'criterion': 'gini', 'max_depth': None, 'n_jobs': -1}\n",
      "0.6745742794998394\n",
      "{'n_estimators': 500, 'criterion': 'entropy', 'max_depth': 10, 'n_jobs': -1}\n",
      "0.6637218007527661\n",
      "{'n_estimators': 500, 'criterion': 'entropy', 'max_depth': 15, 'n_jobs': -1}\n",
      "0.6580572776121125\n",
      "{'n_estimators': 500, 'criterion': 'entropy', 'max_depth': None, 'n_jobs': -1}\n",
      "0.7215847993510858\n",
      "{'n_estimators': 1000, 'criterion': 'gini', 'max_depth': 10, 'n_jobs': -1}\n",
      "0.6907006323679439\n",
      "{'n_estimators': 1000, 'criterion': 'gini', 'max_depth': 15, 'n_jobs': -1}\n",
      "0.6891801416261075\n",
      "{'n_estimators': 1000, 'criterion': 'gini', 'max_depth': None, 'n_jobs': -1}\n",
      "0.6650687236269429\n",
      "{'n_estimators': 1000, 'criterion': 'entropy', 'max_depth': 10, 'n_jobs': -1}\n",
      "0.6748264099832089\n",
      "{'n_estimators': 1000, 'criterion': 'entropy', 'max_depth': 15, 'n_jobs': -1}\n",
      "0.6621895758567303\n",
      "{'n_estimators': 1000, 'criterion': 'entropy', 'max_depth': None, 'n_jobs': -1}\n",
      "0.6803679959606822\n"
     ]
    }
   ],
   "source": [
    "validation(X_train, y_train, RandomForestClassifier, params, group_fold_generator, groups_train=groups_train, folds_num=10)"
   ]
  },
  {
   "cell_type": "code",
   "execution_count": 70,
   "metadata": {},
   "outputs": [
    {
     "name": "stdout",
     "output_type": "stream",
     "text": [
      "RandomForestClassifier(bootstrap=True, ccp_alpha=0.0, class_weight=None,\n",
      "                       criterion='entropy', max_depth=None, max_features='auto',\n",
      "                       max_leaf_nodes=None, max_samples=None,\n",
      "                       min_impurity_decrease=0.0, min_impurity_split=None,\n",
      "                       min_samples_leaf=1, min_samples_split=2,\n",
      "                       min_weight_fraction_leaf=0.0, n_estimators=500,\n",
      "                       n_jobs=None, oob_score=False, random_state=None,\n",
      "                       verbose=0, warm_start=False)\n"
     ]
    }
   ],
   "source": [
    "clf = RandomForestClassifier(n_estimators=500, criterion='entropy')\n",
    "print(clf.fit(X_train, y_train))"
   ]
  },
  {
   "cell_type": "code",
   "execution_count": 71,
   "metadata": {},
   "outputs": [
    {
     "name": "stdout",
     "output_type": "stream",
     "text": [
      "[0 1 0 ... 0 0 1]\n"
     ]
    }
   ],
   "source": [
    "y_pred = clf.predict(X_test)\n",
    "print(y_pred)"
   ]
  },
  {
   "cell_type": "code",
   "execution_count": 72,
   "metadata": {},
   "outputs": [
    {
     "data": {
      "text/html": [
       "<div>\n",
       "<style scoped>\n",
       "    .dataframe tbody tr th:only-of-type {\n",
       "        vertical-align: middle;\n",
       "    }\n",
       "\n",
       "    .dataframe tbody tr th {\n",
       "        vertical-align: top;\n",
       "    }\n",
       "\n",
       "    .dataframe thead th {\n",
       "        text-align: right;\n",
       "    }\n",
       "</style>\n",
       "<table border=\"1\" class=\"dataframe\">\n",
       "  <thead>\n",
       "    <tr style=\"text-align: right;\">\n",
       "      <th></th>\n",
       "      <th>pair_id</th>\n",
       "      <th>target</th>\n",
       "    </tr>\n",
       "  </thead>\n",
       "  <tbody>\n",
       "    <tr>\n",
       "      <th>0</th>\n",
       "      <td>11691</td>\n",
       "      <td>0</td>\n",
       "    </tr>\n",
       "    <tr>\n",
       "      <th>1</th>\n",
       "      <td>11692</td>\n",
       "      <td>1</td>\n",
       "    </tr>\n",
       "    <tr>\n",
       "      <th>2</th>\n",
       "      <td>11693</td>\n",
       "      <td>0</td>\n",
       "    </tr>\n",
       "    <tr>\n",
       "      <th>3</th>\n",
       "      <td>11694</td>\n",
       "      <td>1</td>\n",
       "    </tr>\n",
       "    <tr>\n",
       "      <th>4</th>\n",
       "      <td>11695</td>\n",
       "      <td>0</td>\n",
       "    </tr>\n",
       "    <tr>\n",
       "      <th>...</th>\n",
       "      <td>...</td>\n",
       "      <td>...</td>\n",
       "    </tr>\n",
       "    <tr>\n",
       "      <th>16622</th>\n",
       "      <td>28313</td>\n",
       "      <td>0</td>\n",
       "    </tr>\n",
       "    <tr>\n",
       "      <th>16623</th>\n",
       "      <td>28314</td>\n",
       "      <td>0</td>\n",
       "    </tr>\n",
       "    <tr>\n",
       "      <th>16624</th>\n",
       "      <td>28315</td>\n",
       "      <td>0</td>\n",
       "    </tr>\n",
       "    <tr>\n",
       "      <th>16625</th>\n",
       "      <td>28316</td>\n",
       "      <td>0</td>\n",
       "    </tr>\n",
       "    <tr>\n",
       "      <th>16626</th>\n",
       "      <td>28317</td>\n",
       "      <td>1</td>\n",
       "    </tr>\n",
       "  </tbody>\n",
       "</table>\n",
       "<p>16627 rows × 2 columns</p>\n",
       "</div>"
      ],
      "text/plain": [
       "       pair_id  target\n",
       "0        11691       0\n",
       "1        11692       1\n",
       "2        11693       0\n",
       "3        11694       1\n",
       "4        11695       0\n",
       "...        ...     ...\n",
       "16622    28313       0\n",
       "16623    28314       0\n",
       "16624    28315       0\n",
       "16625    28316       0\n",
       "16626    28317       1\n",
       "\n",
       "[16627 rows x 2 columns]"
      ]
     },
     "execution_count": 72,
     "metadata": {},
     "output_type": "execute_result"
    }
   ],
   "source": [
    "data = test_data\n",
    "data['target'] = y_pred\n",
    "data = data.drop(['group_id', 'doc_id'], axis=1)\n",
    "\n",
    "# print(data.head(100))\n",
    "# data['target'] = data['target'].apply(lambda x: 0 if x == -1 else 1)\n",
    "data.to_csv(\"submission.csv\", index=False)\n",
    "data"
   ]
  },
  {
   "cell_type": "code",
   "execution_count": 73,
   "metadata": {},
   "outputs": [
    {
     "data": {
      "text/plain": [
       "(array([0, 1]), array([13025,  3602]))"
      ]
     },
     "execution_count": 73,
     "metadata": {},
     "output_type": "execute_result"
    }
   ],
   "source": [
    "np.unique(data['target'], return_counts=True)"
   ]
  },
  {
   "cell_type": "code",
   "execution_count": null,
   "metadata": {},
   "outputs": [],
   "source": []
  }
 ],
 "metadata": {
  "kernelspec": {
   "display_name": "Python 3",
   "language": "python",
   "name": "python3"
  },
  "language_info": {
   "codemirror_mode": {
    "name": "ipython",
    "version": 3
   },
   "file_extension": ".py",
   "mimetype": "text/x-python",
   "name": "python",
   "nbconvert_exporter": "python",
   "pygments_lexer": "ipython3",
   "version": "3.7.6"
  }
 },
 "nbformat": 4,
 "nbformat_minor": 4
}
